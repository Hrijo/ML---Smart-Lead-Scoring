{
 "cells": [
  {
   "cell_type": "code",
   "execution_count": null,
   "id": "5eb64751",
   "metadata": {},
   "outputs": [],
   "source": [
    "import pandas as pd\n",
    "import numpy as np\n",
    "import matplotlib.pyplot as plt\n",
    "import seaborn as sns"
   ]
  },
  {
   "cell_type": "code",
   "execution_count": null,
   "id": "5e898d6e",
   "metadata": {},
   "outputs": [],
   "source": [
    "df_test = pd.read_csv('C:/Users/Hrishikesh/Desktop/Python/Leetcode Problems/Machine_learning/test_leads.csv')\n",
    "df_train = pd.read_csv('C:/Users/Hrishikesh/Desktop/Python/Leetcode Problems/Machine_learning/train_leads.csv')"
   ]
  },
  {
   "cell_type": "code",
   "execution_count": null,
   "id": "d933b1ac",
   "metadata": {},
   "outputs": [],
   "source": [
    "sns.heatmap(df_train.corr(), cmap='YlGnBu')\n",
    "plt.show()\n",
    "\n",
    "#Check correlations between different fields:\n",
    "#Seems like User Activity : 2,4,5,9,10,11 have a greater positive impact on the purchase decision\n",
    "#While User Activity 1,6,7 and 8 have fairly negative correlation "
   ]
  },
  {
   "cell_type": "code",
   "execution_count": null,
   "id": "cb7d6abd",
   "metadata": {},
   "outputs": [],
   "source": [
    "df_train.info() #Check for Null values"
   ]
  },
  {
   "cell_type": "code",
   "execution_count": null,
   "id": "4cbfc5d3",
   "metadata": {},
   "outputs": [],
   "source": [
    "#80-20 training and testing on the training data provided : Stratified shuffle split\n",
    "from sklearn.model_selection import StratifiedShuffleSplit\n",
    "\n",
    "split = StratifiedShuffleSplit(n_splits=1, test_size=0.2)\n",
    "for train_indices, test_indices in split.split(df_train, df_train[['buy','user_activity_var_2','user_activity_var_4','user_activity_var_9']]):\n",
    "    strat_train_set = df_train.loc[train_indices]\n",
    "    strat_test_set = df_train.loc[test_indices]\n"
   ]
  },
  {
   "cell_type": "code",
   "execution_count": null,
   "id": "ed0ae1fb",
   "metadata": {},
   "outputs": [],
   "source": [
    "plt.subplot(1,2,1)\n",
    "strat_train_set['buy'].hist()\n",
    "strat_train_set['user_activity_var_9'].hist()\n",
    "\n",
    "plt.subplot(1,2,2)\n",
    "strat_test_set['buy'].hist()\n",
    "strat_test_set['user_activity_var_9'].hist()\n",
    "\n",
    "plt.show()"
   ]
  },
  {
   "cell_type": "code",
   "execution_count": null,
   "id": "b4f29221",
   "metadata": {},
   "outputs": [],
   "source": [
    "#checking null values\n",
    "strat_train_set.info()\n",
    "strat_test_set.info()"
   ]
  },
  {
   "cell_type": "code",
   "execution_count": null,
   "id": "5ad9df9d",
   "metadata": {},
   "outputs": [],
   "source": [
    "from sklearn.base import BaseEstimator, TransformerMixin"
   ]
  },
  {
   "cell_type": "code",
   "execution_count": null,
   "id": "545d557b",
   "metadata": {},
   "outputs": [],
   "source": [
    "class FeatureDropper(BaseEstimator, TransformerMixin):\n",
    "    def fit(self, X, y=None):\n",
    "        return self\n",
    "    \n",
    "    def transform(self, X):\n",
    "        return X.drop(['created_at', 'campaign_var_1','campaign_var_2', 'products_purchased','signup_date','user_activity_var_1','user_activity_var_3', 'user_activity_var_6','user_activity_var_7','user_activity_var_8','user_activity_var_10','user_activity_var_12'], axis=1, errors=\"ignore\")"
   ]
  },
  {
   "cell_type": "code",
   "execution_count": null,
   "id": "95565746",
   "metadata": {},
   "outputs": [],
   "source": [
    "from sklearn.pipeline import Pipeline\n",
    "\n",
    "pipeline = Pipeline([('featuredropper', FeatureDropper())])"
   ]
  },
  {
   "cell_type": "code",
   "execution_count": null,
   "id": "308296a8",
   "metadata": {},
   "outputs": [],
   "source": [
    "strat_train_set = pipeline.fit_transform(strat_train_set)"
   ]
  },
  {
   "cell_type": "code",
   "execution_count": null,
   "id": "f1ccf99e",
   "metadata": {},
   "outputs": [],
   "source": [
    "strat_train_set.info()"
   ]
  },
  {
   "cell_type": "code",
   "execution_count": null,
   "id": "8541af5c",
   "metadata": {},
   "outputs": [],
   "source": [
    "from sklearn.preprocessing import StandardScaler\n",
    "\n",
    "X = strat_train_set.drop(['buy'],axis = 1)\n",
    "y = strat_train_set['buy']\n",
    "\n",
    "scaler = StandardScaler()\n",
    "X_data = scaler.fit_transform(X)\n",
    "y_data = y.to_numpy()"
   ]
  },
  {
   "cell_type": "code",
   "execution_count": null,
   "id": "b6c1f534",
   "metadata": {},
   "outputs": [],
   "source": [
    "X_data"
   ]
  },
  {
   "cell_type": "code",
   "execution_count": null,
   "id": "bbcd9afd",
   "metadata": {},
   "outputs": [],
   "source": [
    "#using random forest classifier\n",
    "\n",
    "from sklearn.ensemble import RandomForestClassifier\n",
    "from sklearn.model_selection import GridSearchCV"
   ]
  },
  {
   "cell_type": "code",
   "execution_count": null,
   "id": "52e92770",
   "metadata": {},
   "outputs": [],
   "source": [
    "clf = RandomForestClassifier()\n",
    "\n",
    "param_grid = [\n",
    "    {'n_estimators': [10,100,200,500,1000], 'max_depth': [None, 5, 10], 'min_samples_split':[2,3,4]}\n",
    "]\n",
    "\n",
    "grid_search = GridSearchCV(clf, param_grid, cv=3, scoring ='accuracy', return_train_score = True)\n",
    "grid_search.fit(X_data, y_data)"
   ]
  },
  {
   "cell_type": "code",
   "execution_count": null,
   "id": "c81f6745",
   "metadata": {},
   "outputs": [],
   "source": [
    "final_clf = grid_search.best_estimator_"
   ]
  },
  {
   "cell_type": "code",
   "execution_count": null,
   "id": "90e8c666",
   "metadata": {},
   "outputs": [],
   "source": [
    "final_clf"
   ]
  },
  {
   "cell_type": "code",
   "execution_count": null,
   "id": "69720bfa",
   "metadata": {},
   "outputs": [],
   "source": [
    "strat_test_set = pipeline.fit_transform(strat_test_set)"
   ]
  },
  {
   "cell_type": "code",
   "execution_count": null,
   "id": "70bfbf1c",
   "metadata": {},
   "outputs": [],
   "source": [
    "strat_test_set"
   ]
  },
  {
   "cell_type": "code",
   "execution_count": null,
   "id": "d22988f8",
   "metadata": {},
   "outputs": [],
   "source": [
    "X_test = strat_test_set.drop(['buy'],axis=1)\n",
    "y_test = strat_test_set['buy']\n",
    "\n",
    "scaler = StandardScaler()\n",
    "X_data_test = scaler.fit_transform(X_test)\n",
    "y_data_test = y_test.to_numpy()"
   ]
  },
  {
   "cell_type": "code",
   "execution_count": null,
   "id": "4550722e",
   "metadata": {},
   "outputs": [],
   "source": [
    "final_clf.score(X_data_test, y_data_test)"
   ]
  },
  {
   "cell_type": "code",
   "execution_count": null,
   "id": "4229e596",
   "metadata": {},
   "outputs": [],
   "source": [
    "final_leads_data = pipeline.fit_transform(df_train)"
   ]
  },
  {
   "cell_type": "code",
   "execution_count": null,
   "id": "b4805f88",
   "metadata": {},
   "outputs": [],
   "source": [
    "final_leads_data"
   ]
  },
  {
   "cell_type": "code",
   "execution_count": null,
   "id": "8ea2d22a",
   "metadata": {},
   "outputs": [],
   "source": [
    "X_final = final_leads_data.drop(['buy'],axis=1)\n",
    "y_final = final_leads_data['buy']\n",
    "\n",
    "scaler = StandardScaler()\n",
    "X_leads_final = scaler.fit_transform(X_final)\n",
    "y_leads_final = y_final.to_numpy()"
   ]
  },
  {
   "cell_type": "code",
   "execution_count": null,
   "id": "540df933",
   "metadata": {},
   "outputs": [],
   "source": [
    "prod_clf = RandomForestClassifier()\n",
    "\n",
    "param_grid = [\n",
    "    {'n_estimators': [10,100,200,500,1000], 'max_depth': [None, 5, 10], 'min_samples_split':[2,3,4]}\n",
    "]\n",
    "\n",
    "grid_search = GridSearchCV(prod_clf, param_grid, cv=3, scoring ='accuracy', return_train_score = True)\n",
    "grid_search.fit(X_leads_final, y_leads_final)"
   ]
  },
  {
   "cell_type": "code",
   "execution_count": null,
   "id": "3dfc5a78",
   "metadata": {},
   "outputs": [],
   "source": [
    "prod_final_clf = grid_search.best_estimator_"
   ]
  },
  {
   "cell_type": "code",
   "execution_count": null,
   "id": "e69e5e14",
   "metadata": {},
   "outputs": [],
   "source": [
    "prod_final_clf"
   ]
  },
  {
   "cell_type": "code",
   "execution_count": null,
   "id": "e4b96ab5",
   "metadata": {},
   "outputs": [],
   "source": [
    "final_test_data = pipeline.fit_transform(df_test)"
   ]
  },
  {
   "cell_type": "code",
   "execution_count": null,
   "id": "62ddee49",
   "metadata": {},
   "outputs": [],
   "source": [
    "final_test_data.info()"
   ]
  },
  {
   "cell_type": "code",
   "execution_count": null,
   "id": "6b2262f8",
   "metadata": {},
   "outputs": [],
   "source": [
    "X_final_data = final_test_data\n",
    "\n",
    "scaler = StandardScaler()\n",
    "X_leads_final_test = scaler.fit_transform(X_final_data)"
   ]
  },
  {
   "cell_type": "code",
   "execution_count": null,
   "id": "921da754",
   "metadata": {},
   "outputs": [],
   "source": [
    "predictions = prod_final_clf.predict(X_leads_final_test)"
   ]
  },
  {
   "cell_type": "code",
   "execution_count": null,
   "id": "7c2016f0",
   "metadata": {},
   "outputs": [],
   "source": [
    "sum(predictions) #to check if there are both 1's and 0's"
   ]
  },
  {
   "cell_type": "code",
   "execution_count": null,
   "id": "4a8f3f10",
   "metadata": {},
   "outputs": [],
   "source": [
    "final_data_frame = pd.DataFrame(df_test['id'])\n",
    "final_data_frame['buy'] = predictions\n",
    "\n",
    "final_data_frame.to_csv('C:/Users/Hrishikesh/Desktop/Python/Leetcode Problems/Machine_learning/submission_v1.csv',index=False)"
   ]
  }
 ],
 "metadata": {
  "kernelspec": {
   "display_name": "Python 3 (ipykernel)",
   "language": "python",
   "name": "python3"
  },
  "language_info": {
   "codemirror_mode": {
    "name": "ipython",
    "version": 3
   },
   "file_extension": ".py",
   "mimetype": "text/x-python",
   "name": "python",
   "nbconvert_exporter": "python",
   "pygments_lexer": "ipython3",
   "version": "3.9.7"
  }
 },
 "nbformat": 4,
 "nbformat_minor": 5
}
